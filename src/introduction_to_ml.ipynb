{
 "cells": [
  {
   "cell_type": "markdown",
   "metadata": {},
   "source": [
    "# Introduction to ML\n",
    "\n",
    "\n",
    "## Summary\n",
    "\n",
    "* Run install_packages.ipynb\n",
    "\n",
    "**Ex 1** End-to-end decision tree\n",
    "\n",
    "* Step 1: Data\n",
    "* Step 2: Processing\n",
    "* Step 3: Modeling (no vectorization step)\n",
    "* Step 4: Visualization\n",
    "* Change parameters\n",
    "   \n",
    "**Ex 2** Cleanse and feaure extraction applied to natural language\n",
    "\n",
    "* Text cleaning with regex\n",
    "* Feature extraction\n",
    "    * Tokenizer\n",
    "    * Removing stop words\n",
    "    * Vectorization\n",
    "    * Lematization\n",
    "    \n",
    "**Ex 3** Sentiment analysis with pre-trained model"
   ]
  },
  {
   "cell_type": "markdown",
   "metadata": {},
   "source": [
    "## Ex 1: End-to-end project: Decision Tree\n",
    "\n",
    "### Goals\n",
    "\n",
    "* Predict survival rate of titanic passengers\n",
    "* Practice decision trees\n",
    "* End-to-end ML project\n",
    "\n",
    "### About the data\n",
    "\n",
    "We will use the well known Titanic dataset.\n",
    "\n",
    "The dataset has the following columns:\n",
    "\n",
    "* `Survived` - boolean\n",
    "    * 0 - No\n",
    "    * 1 - Yes\n",
    "    \n",
    "* `Pclass` (passenger class) - enumerated\n",
    "    * 1\n",
    "    * 2\n",
    "    * 3\n",
    "    \n",
    "* `Name` - string\n",
    "\n",
    "* `Sex` - enumerated\n",
    "    * male\n",
    "    * female\n",
    "\n",
    "* `Age` - integer\n",
    "\n",
    "* `Siblings/Spouses Aboard` (number of siblings/spouses) - integer\n",
    "\n",
    "* `Parents/Children Aboard` (number of parents/children) - integer\n",
    "\n",
    "* `Fare` (in pounds) - float"
   ]
  },
  {
   "cell_type": "markdown",
   "metadata": {},
   "source": [
    "### First things first: import packages"
   ]
  },
  {
   "cell_type": "code",
   "execution_count": null,
   "metadata": {},
   "outputs": [],
   "source": [
    "import matplotlib.pyplot as plt\n",
    "import pandas as pd\n",
    "\n",
    "from sklearn.tree import DecisionTreeClassifier, plot_tree\n",
    "from sklearn.model_selection import train_test_split\n",
    "from sklearn import metrics"
   ]
  },
  {
   "cell_type": "markdown",
   "metadata": {},
   "source": [
    "### Step 1: Data"
   ]
  },
  {
   "cell_type": "code",
   "execution_count": null,
   "metadata": {},
   "outputs": [],
   "source": [
    "!wget https://web.stanford.edu/class/archive/cs/cs109/cs109.1166/stuff/titanic.csv\n",
    "\n",
    "# Load data into a pandas dataframe\n",
    "df = pd.read_csv(\"titanic.csv\")\n",
    "\n",
    "# See the first 10 rows\n",
    "df.head(10)"
   ]
  },
  {
   "cell_type": "markdown",
   "metadata": {},
   "source": [
    "### Step 2: Processing"
   ]
  },
  {
   "cell_type": "markdown",
   "metadata": {},
   "source": [
    "Rename columns with more simple names:"
   ]
  },
  {
   "cell_type": "code",
   "execution_count": null,
   "metadata": {},
   "outputs": [],
   "source": [
    "df = df.rename(columns={\n",
    "    \"Survived\": \"survived\",\n",
    "    \"Pclass\": \"pclass\",\n",
    "    \"Name\": \"name\",\n",
    "    \"Sex\": \"sex\",\n",
    "    \"Age\": \"age\",\n",
    "    \"Siblings/Spouses Aboard\": \"ss_ab\",\n",
    "    \"Parents/Children Aboard\": \"pc_ab\",\n",
    "    \"Fare\": \"fare\"\n",
    "})"
   ]
  },
  {
   "cell_type": "markdown",
   "metadata": {},
   "source": [
    "Select columns (drop the ones that don't look like relevant):"
   ]
  },
  {
   "cell_type": "code",
   "execution_count": null,
   "metadata": {},
   "outputs": [],
   "source": [
    "df = df[[\"survived\", \"pclass\", \"sex\", \"age\", \"ss_ab\", \"pc_ab\"]]"
   ]
  },
  {
   "cell_type": "markdown",
   "metadata": {},
   "source": [
    "Convert `sex` string to numbers:\n",
    "\n",
    "* 1 for `female`\n",
    "* 2 for `male`"
   ]
  },
  {
   "cell_type": "code",
   "execution_count": null,
   "metadata": {},
   "outputs": [],
   "source": [
    "df[\"sex\"].unique()"
   ]
  },
  {
   "cell_type": "code",
   "execution_count": null,
   "metadata": {},
   "outputs": [],
   "source": [
    "# Do not run this cell more than once\n",
    "df[\"sex\"] = df[\"sex\"].apply(lambda x: 1 if (x == \"female\") else 2)\n",
    "\n",
    "df"
   ]
  },
  {
   "cell_type": "markdown",
   "metadata": {},
   "source": [
    "### Step 3: Modelling\n",
    "\n",
    "Separate features and target:"
   ]
  },
  {
   "cell_type": "code",
   "execution_count": null,
   "metadata": {},
   "outputs": [],
   "source": [
    "# Features\n",
    "features = [\"pclass\", \"sex\", \"age\", \"ss_ab\", \"pc_ab\"]\n",
    "X = df[features]\n",
    "\n",
    "# Target (label)\n",
    "y = df[\"survived\"]"
   ]
  },
  {
   "cell_type": "markdown",
   "metadata": {},
   "source": [
    "Create training dataset and test dataset (80/20 split):"
   ]
  },
  {
   "cell_type": "code",
   "execution_count": null,
   "metadata": {},
   "outputs": [],
   "source": [
    "X_train, X_test, y_train, y_test = train_test_split(X, y, test_size=0.2, random_state=1)\n",
    "\n",
    "print(f\"Training: X: {X_train.shape} y: {y_train.shape}\")\n",
    "print(f\"Test: X: {X_test.shape} y: {y_test.shape}\")"
   ]
  },
  {
   "cell_type": "markdown",
   "metadata": {},
   "source": [
    "Build decision tree model (fit):"
   ]
  },
  {
   "cell_type": "code",
   "execution_count": null,
   "metadata": {},
   "outputs": [],
   "source": [
    "max_depth = 3\n",
    "clf = DecisionTreeClassifier(max_depth=max_depth)\n",
    "\n",
    "clf = clf.fit(X_train, y_train)"
   ]
  },
  {
   "cell_type": "markdown",
   "metadata": {},
   "source": [
    "Predict:"
   ]
  },
  {
   "cell_type": "code",
   "execution_count": null,
   "metadata": {},
   "outputs": [],
   "source": [
    "y_pred = clf.predict(X_test)\n",
    "\n",
    "print(f\"Accuracy: {metrics.accuracy_score(y_test, y_pred)}\")\n",
    "\n",
    "print(f\"Report:\\n{metrics.classification_report(y_test, y_pred)}\")"
   ]
  },
  {
   "cell_type": "markdown",
   "metadata": {},
   "source": [
    "### Step 4: Visualization"
   ]
  },
  {
   "cell_type": "code",
   "execution_count": null,
   "metadata": {},
   "outputs": [],
   "source": [
    "# Labels are:\n",
    "#     0 -> died\n",
    "#     1 -> survived\n",
    "\n",
    "fig, axes = plt.subplots(nrows=1, ncols=1, figsize=(16,9), dpi=100)\n",
    "\n",
    "plot_tree(clf,\n",
    "          feature_names = features,\n",
    "          class_names=[\"died\", \"survived\"],\n",
    "          impurity=False,\n",
    "          filled=True)\n",
    "\n",
    "fig.savefig(\"titanic_decision_tree.png\")"
   ]
  },
  {
   "cell_type": "markdown",
   "metadata": {},
   "source": [
    "Profiles of people that survived:\n",
    "    \n",
    "* Woman, rich (class 1 or 2), age between 3 and 39\n",
    "\n",
    "Profiles of people that died:\n",
    "\n",
    "* Man, older than 13, poor (class 2 or 3)"
   ]
  },
  {
   "cell_type": "code",
   "execution_count": null,
   "metadata": {},
   "outputs": [],
   "source": [
    "# Woman, rich (classe 1 or 2), age between 3 and 39\n",
    "# [\"pclass\", \"sex\", \"age\", \"ss_ab\", \"pc_ab\"] = [1, 1, 20, 0, 0]\n",
    "prediction = clf.predict([[1,1,38,0,0]])\n",
    "print(prediction)\n",
    "\n",
    "\n",
    "# Man, older than 13, poor (class 2 or 3)\n",
    "# [\"pclass\", \"sex\", \"age\", \"ss_ab\", \"pc_ab\"] = [2, 2, 1000, 0, 0]\n",
    "prediction = clf.predict([[3, 2, 30, 0, 0]])\n",
    "print(prediction)"
   ]
  },
  {
   "cell_type": "markdown",
   "metadata": {},
   "source": [
    "### Change some parameters"
   ]
  },
  {
   "cell_type": "code",
   "execution_count": null,
   "metadata": {},
   "outputs": [],
   "source": [
    "features = [\"pclass\", \"sex\", \"age\", \"ss_ab\", \"pc_ab\"]\n",
    "X = df[features]\n",
    "y = df[\"survived\"]\n",
    "\n",
    "# IMPORTANT -> change test_size\n",
    "X_train, X_test, y_train, y_test = train_test_split(X, y, test_size=0.2, random_state=1)\n",
    "\n",
    "# IMPORTANT -> change max_depth (integer or None)\n",
    "max_depth = 2\n",
    "clf = DecisionTreeClassifier(max_depth=max_depth)\n",
    "\n",
    "clf = clf.fit(X_train, y_train)\n",
    "\n",
    "y_pred = clf.predict(X_test)\n",
    "\n",
    "print(f\"Accuracy: {metrics.accuracy_score(y_test, y_pred)}\")\n",
    "\n",
    "fig, axes = plt.subplots(nrows=1, ncols=1, figsize=(16,9), dpi=100)\n",
    "\n",
    "plot_tree(clf,\n",
    "          feature_names = features,\n",
    "          class_names=[\"died\", \"survived\"],\n",
    "          impurity=False,\n",
    "          filled=True)\n",
    "\n",
    "fig.savefig(\"titanic_decision_tree.png\")"
   ]
  },
  {
   "cell_type": "markdown",
   "metadata": {},
   "source": [
    "## Ex 2: Cleanse and vectorization applied to natural language\n",
    "\n",
    "\n",
    "### Goals\n",
    "\n",
    "* Text cleaning with regex\n",
    "* Feature extraction\n",
    "    * Tokenizer\n",
    "    * Removing stop words\n",
    "    * Vectorization\n",
    "    * Lematization"
   ]
  },
  {
   "cell_type": "markdown",
   "metadata": {},
   "source": [
    "### First things first"
   ]
  },
  {
   "cell_type": "code",
   "execution_count": null,
   "metadata": {},
   "outputs": [],
   "source": [
    "import re\n",
    "\n",
    "import nltk\n",
    "\n",
    "from nltk.corpus import stopwords\n",
    "from nltk.tokenize import word_tokenize\n",
    "from nltk.stem.porter import PorterStemmer\n",
    "from nltk.stem import WordNetLemmatizer\n",
    "from sklearn.feature_extraction.text import CountVectorizer, TfidfVectorizer\n",
    "\n",
    "nltk.download('punkt')\n",
    "nltk.download('stopwords')\n",
    "nltk.download('wordnet')"
   ]
  },
  {
   "cell_type": "markdown",
   "metadata": {},
   "source": [
    "### Text cleaning"
   ]
  },
  {
   "cell_type": "markdown",
   "metadata": {},
   "source": [
    "Only alphabetic chars:"
   ]
  },
  {
   "cell_type": "code",
   "execution_count": null,
   "metadata": {},
   "outputs": [],
   "source": [
    "''.join((x for x in \"MadMax25\" if x.isalpha()))"
   ]
  },
  {
   "cell_type": "code",
   "execution_count": null,
   "metadata": {},
   "outputs": [],
   "source": [
    "dummy = \"The lazy dog jumped_'-! over the sleeping 123456FOX!\"\n",
    "\n",
    "''.join((x for x in dummy if x.isalpha()))"
   ]
  },
  {
   "cell_type": "markdown",
   "metadata": {},
   "source": [
    "Now with regular expressions:"
   ]
  },
  {
   "cell_type": "code",
   "execution_count": null,
   "metadata": {},
   "outputs": [],
   "source": [
    "re.sub('[^a-zA-Z\\ ]', '', dummy)"
   ]
  },
  {
   "cell_type": "markdown",
   "metadata": {},
   "source": [
    "Remove what is between parenthesis:"
   ]
  },
  {
   "cell_type": "code",
   "execution_count": null,
   "metadata": {},
   "outputs": [],
   "source": [
    "dummy = \"The lazy dog (whose name is Pluto) jumped over the sleeping fox (whose name is Foxie) yesterday\"\n",
    "\n",
    "clean_text = re.sub('\\(.*?\\)', '', dummy)\n",
    "clean_text = re.sub('\\s\\s', ' ', clean_text)\n",
    "\n",
    "clean_text"
   ]
  },
  {
   "cell_type": "markdown",
   "metadata": {},
   "source": [
    "To try regex: https://pythex.org/"
   ]
  },
  {
   "cell_type": "markdown",
   "metadata": {},
   "source": [
    "### Tokenization"
   ]
  },
  {
   "cell_type": "code",
   "execution_count": null,
   "metadata": {},
   "outputs": [],
   "source": [
    "dummy = \"The lazy dog umped over the sleeping fox\"\n",
    "\n",
    "word_tokenize(dummy)"
   ]
  },
  {
   "cell_type": "markdown",
   "metadata": {},
   "source": [
    "### Removing stop words\n",
    "\n",
    "Stop words usually refers to the most common words in a language.\n",
    "\n",
    "In NLP, stop words are normally filtered out.\n"
   ]
  },
  {
   "cell_type": "code",
   "execution_count": null,
   "metadata": {},
   "outputs": [],
   "source": [
    "# In English (show 25 words only)\n",
    "print(stopwords.words('english')[:25])\n",
    "\n",
    "# In Spanish (show 25 words only)\n",
    "print(stopwords.words('spanish')[:25])"
   ]
  },
  {
   "cell_type": "code",
   "execution_count": null,
   "metadata": {},
   "outputs": [],
   "source": [
    "dummy = \"Do you know what? The lazy dog (whose name is Pluto) jumped over the sleeping fox (whose name is Foxie) yesterday.\"\n",
    "\n",
    "# Only alphabetic chars\n",
    "clean_text = re.sub('[^a-zA-Z\\ ]', '', dummy)\n",
    "clean_text = re.sub('\\s\\s', ' ', clean_text)\n",
    "\n",
    "# No capital letters\n",
    "clean_text = clean_text.lower()\n",
    "\n",
    "# Remove stopwords\n",
    "words = word_tokenize(clean_text)\n",
    "clean_text = [x for x in words if x not in stopwords.words('english')]\n",
    "clean_text = ' '.join(clean_text)\n",
    "clean_text"
   ]
  },
  {
   "cell_type": "markdown",
   "metadata": {},
   "source": [
    "### Vectorization"
   ]
  },
  {
   "cell_type": "code",
   "execution_count": null,
   "metadata": {},
   "outputs": [],
   "source": [
    "corpus = [\n",
    "    \"a car has four wheels two mirrors one middle mirror and four seats\",\n",
    "    \"a scooter has two wheels two mirrors no middle mirror and two seat\",\n",
    "    \"cars have diesel or gasoline engine\",\n",
    "    \"scooters have gasoline engine\"\n",
    "]\n",
    "\n",
    "vectorizer = CountVectorizer()\n",
    "X = vectorizer.fit_transform(corpus)\n",
    "\n",
    "print(vectorizer.get_feature_names())\n",
    "\n",
    "print(X.toarray())"
   ]
  },
  {
   "cell_type": "markdown",
   "metadata": {},
   "source": [
    "Let's make better, let's remove stop words:"
   ]
  },
  {
   "cell_type": "code",
   "execution_count": null,
   "metadata": {},
   "outputs": [],
   "source": [
    "def remove_stop_words(text):\n",
    "    tokens = word_tokenize(text)\n",
    "    \n",
    "    tokens = [x for x in tokens if x not in stopwords.words('english')]\n",
    "\n",
    "    return ' '.join(tokens)\n",
    "\n",
    "corpus = [remove_stop_words(x) for x in corpus]\n",
    "corpus"
   ]
  },
  {
   "cell_type": "markdown",
   "metadata": {},
   "source": [
    "#### Count vectorizer"
   ]
  },
  {
   "cell_type": "code",
   "execution_count": null,
   "metadata": {},
   "outputs": [],
   "source": [
    "vectorizer = CountVectorizer()\n",
    "X = vectorizer.fit_transform(corpus)\n",
    "\n",
    "print(vectorizer.get_feature_names())\n",
    "\n",
    "print(X.toarray())"
   ]
  },
  {
   "cell_type": "markdown",
   "metadata": {},
   "source": [
    "#### TfidfVectorizer"
   ]
  },
  {
   "cell_type": "code",
   "execution_count": null,
   "metadata": {},
   "outputs": [],
   "source": [
    "vectorizer = TfidfVectorizer()\n",
    "X = vectorizer.fit_transform(corpus)\n",
    "\n",
    "print(vectorizer.get_feature_names())\n",
    "\n",
    "print(X.toarray())"
   ]
  },
  {
   "cell_type": "markdown",
   "metadata": {},
   "source": [
    "### Stemming"
   ]
  },
  {
   "cell_type": "code",
   "execution_count": null,
   "metadata": {},
   "outputs": [],
   "source": [
    "dummy = \"a car has four wheels cars windows one rear window and one gasoline engine\"\n",
    "\n",
    "# Tokenize and remove stop words\n",
    "tokens = word_tokenize(dummy)\n",
    "tokens = [x for x in tokens if x not in stopwords.words('english')]\n",
    "\n",
    "\n",
    "# Get stems\n",
    "stemmer = PorterStemmer()\n",
    "\n",
    "key_words = [stemmer.stem(x) for x in tokens]\n",
    "set(key_words)"
   ]
  },
  {
   "cell_type": "markdown",
   "metadata": {},
   "source": [
    "### Lemmatization"
   ]
  },
  {
   "cell_type": "code",
   "execution_count": null,
   "metadata": {},
   "outputs": [],
   "source": [
    "dummy = \"a car has four wheels cars windows one rear window and one gasoline engine\"\n",
    "\n",
    "# Tokenize and remove stop words\n",
    "tokens = word_tokenize(dummy)\n",
    "tokens = [x for x in tokens if x not in stopwords.words('english')]\n",
    "\n",
    "\n",
    "# Get lemas\n",
    "lemmatizer = WordNetLemmatizer() \n",
    "\n",
    "key_words = [lemmatizer.lemmatize(x) for x in tokens]\n",
    "set(key_words)"
   ]
  },
  {
   "cell_type": "markdown",
   "metadata": {},
   "source": [
    "## Ex 3: Sentiment analysis with pre-trained model\n",
    "\n",
    "### Goals\n",
    "\n",
    "* Learn about sentiment analysis\n",
    "* Use a pre-trained model"
   ]
  },
  {
   "cell_type": "markdown",
   "metadata": {},
   "source": [
    "### First things first"
   ]
  },
  {
   "cell_type": "code",
   "execution_count": null,
   "metadata": {},
   "outputs": [],
   "source": [
    "%pip install vaderSentiment\n",
    "\n",
    "from vaderSentiment.vaderSentiment import SentimentIntensityAnalyzer"
   ]
  },
  {
   "cell_type": "markdown",
   "metadata": {},
   "source": [
    "### Example"
   ]
  },
  {
   "cell_type": "code",
   "execution_count": null,
   "metadata": {},
   "outputs": [],
   "source": [
    "sentences = [\"MadMax is an awesome movie\",\n",
    "             \"Titanic is a terrible movie\",\n",
    "             \"Titanic made my cry\",\n",
    "             \"Titanic didn't made me cry\",\n",
    "             \"Thanks God it's thursday.\",\n",
    "             \"My wife is pregnant\",\n",
    "             \"Messi is 🙀 😍\",\n",
    "             ]\n",
    "\n",
    "analyzer = SentimentIntensityAnalyzer()\n",
    "for sentence in sentences:\n",
    "    vs = analyzer.polarity_scores(sentence)\n",
    "    print(\"{:-<30} {}\".format(sentence, str(vs)))"
   ]
  }
 ],
 "metadata": {
  "kernelspec": {
   "display_name": "Python 3",
   "language": "python",
   "name": "python3"
  },
  "language_info": {
   "codemirror_mode": {
    "name": "ipython",
    "version": 3
   },
   "file_extension": ".py",
   "mimetype": "text/x-python",
   "name": "python",
   "nbconvert_exporter": "python",
   "pygments_lexer": "ipython3",
   "version": "3.8.5"
  }
 },
 "nbformat": 4,
 "nbformat_minor": 4
}
